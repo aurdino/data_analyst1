{
 "cells": [
  {
   "cell_type": "code",
   "execution_count": 1,
   "id": "a0ec46ac",
   "metadata": {},
   "outputs": [
    {
     "name": "stdout",
     "output_type": "stream",
     "text": [
      "Meera pass the test and got a score of 64\n"
     ]
    }
   ],
   "source": [
    "import random\n",
    "name = random.choice(['Meera','Ben','John','Anand'])\n",
    "score = random.randint(0,100)\n",
    "if score >= 70:\n",
    "    print(f\"{name} performed really well and got a score of {score}\")\n",
    "elif score >= 50:\n",
    "    print(f\"{name} pass the test and got a score of {score}\")\n",
    "else:\n",
    "    print(f\"{name} failed the test with a score of {score}\")\n"
   ]
  },
  {
   "cell_type": "code",
   "execution_count": 4,
   "id": "0e2c7546",
   "metadata": {},
   "outputs": [
    {
     "data": {
      "text/plain": [
       "64"
      ]
     },
     "execution_count": 4,
     "metadata": {},
     "output_type": "execute_result"
    }
   ],
   "source": [
    "score"
   ]
  },
  {
   "cell_type": "code",
   "execution_count": 13,
   "id": "0b798597",
   "metadata": {},
   "outputs": [
    {
     "data": {
      "text/plain": [
       "'Ford'"
      ]
     },
     "execution_count": 13,
     "metadata": {},
     "output_type": "execute_result"
    }
   ],
   "source": [
    "x = [1,2,{'car':'Ford'},'Hello']\n",
    "x[2]['car']"
   ]
  },
  {
   "cell_type": "code",
   "execution_count": 14,
   "id": "c900ad6b",
   "metadata": {},
   "outputs": [
    {
     "data": {
      "text/plain": [
       "[2, 3, 4]"
      ]
     },
     "execution_count": 14,
     "metadata": {},
     "output_type": "execute_result"
    }
   ],
   "source": [
    "x = [1,2,3,(1,2,[1,2,3,4,5],3,2,1,[1,2])]\n",
    "x[3][2][1:4]"
   ]
  },
  {
   "cell_type": "code",
   "execution_count": 16,
   "id": "5bc03dde",
   "metadata": {},
   "outputs": [
    {
     "data": {
      "text/plain": [
       "['GBR', 'USA', 'DEU', 'EGY', 'FRA']"
      ]
     },
     "execution_count": 16,
     "metadata": {},
     "output_type": "execute_result"
    }
   ],
   "source": [
    "codes = ['826GBR','840USA','276DEU','818EGY','250FRA']\n",
    "alpha2 = []\n",
    "for i in codes:\n",
    "    alpha2.append(i[-3:])\n",
    "alpha2"
   ]
  },
  {
   "cell_type": "code",
   "execution_count": null,
   "id": "03ed4d7c",
   "metadata": {},
   "outputs": [],
   "source": []
  }
 ],
 "metadata": {
  "kernelspec": {
   "display_name": "Python 3 (ipykernel)",
   "language": "python",
   "name": "python3"
  },
  "language_info": {
   "codemirror_mode": {
    "name": "ipython",
    "version": 3
   },
   "file_extension": ".py",
   "mimetype": "text/x-python",
   "name": "python",
   "nbconvert_exporter": "python",
   "pygments_lexer": "ipython3",
   "version": "3.11.5"
  }
 },
 "nbformat": 4,
 "nbformat_minor": 5
}
