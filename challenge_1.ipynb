{
 "cells": [
  {
   "cell_type": "code",
   "execution_count": 1,
   "id": "30347199",
   "metadata": {},
   "outputs": [
    {
     "name": "stdout",
     "output_type": "stream",
     "text": [
      "Meera pass the test and got a score of 64\n"
     ]
    }
   ],
   "source": [
    "import random\n",
    "name = random.choice(['Meera','Ben','John','Anand'])\n",
    "score = random.randint(0,100)\n",
    "if score >= 70:\n",
    "    print(f\"{name} performed really well and got a score of {score}\")\n",
    "elif score >= 50:\n",
    "    print(f\"{name} pass the test and got a score of {score}\")\n",
    "else:\n",
    "    print(f\"{name} failed the test with a score of {score}\")\n"
   ]
  },
  {
   "cell_type": "code",
   "execution_count": 4,
   "id": "f02f0215",
   "metadata": {},
   "outputs": [
    {
     "data": {
      "text/plain": [
       "64"
      ]
     },
     "execution_count": 4,
     "metadata": {},
     "output_type": "execute_result"
    }
   ],
   "source": [
    "score"
   ]
  },
  {
   "cell_type": "code",
   "execution_count": 13,
   "id": "89d6ff38",
   "metadata": {},
   "outputs": [
    {
     "data": {
      "text/plain": [
       "'Ford'"
      ]
     },
     "execution_count": 13,
     "metadata": {},
     "output_type": "execute_result"
    }
   ],
   "source": [
    "x = [1,2,{'car':'Ford'},'Hello']\n",
    "x[2]['car']"
   ]
  },
  {
   "cell_type": "code",
   "execution_count": 14,
   "id": "4266539b",
   "metadata": {},
   "outputs": [
    {
     "data": {
      "text/plain": [
       "[2, 3, 4]"
      ]
     },
     "execution_count": 14,
     "metadata": {},
     "output_type": "execute_result"
    }
   ],
   "source": [
    "x = [1,2,3,(1,2,[1,2,3,4,5],3,2,1,[1,2])]\n",
    "x[3][2][1:4]"
   ]
  },
  {
   "cell_type": "code",
   "execution_count": 21,
   "id": "0ee0a03f",
   "metadata": {},
   "outputs": [
    {
     "name": "stdout",
     "output_type": "stream",
     "text": [
      "b: ['GBR', 'USA', 'DEU', 'EGY', 'FRA']\n"
     ]
    }
   ],
   "source": [
    "codes = ['826GBR','840USA','276DEU','818EGY','250FRA']\n",
    "alpha2 = []\n",
    "for i in codes:\n",
    "    alpha2.append(i[-3:])\n",
    "#alpha2\n",
    "b = [x [len(x)-3:] for x in codes]\n",
    "print('b:', b)"
   ]
  },
  {
   "cell_type": "code",
   "execution_count": 22,
   "id": "a7cff55e",
   "metadata": {},
   "outputs": [
    {
     "data": {
      "text/plain": [
       "['SOPHIE', 'MARK', 'SUSAN', 'JEROME', 'ROGER', 'SUNITA', 'BORIS', 'STEVE']"
      ]
     },
     "execution_count": 22,
     "metadata": {},
     "output_type": "execute_result"
    }
   ],
   "source": [
    "names=['Sophie', 'Mark','Susan','Jerome','Roger','Sunita','Boris','Steve']\n",
    "list(map(lambda x:x.upper(), names))"
   ]
  },
  {
   "cell_type": "code",
   "execution_count": 24,
   "id": "8363793c",
   "metadata": {},
   "outputs": [
    {
     "data": {
      "text/plain": [
       "[1, 2, 3, 4, 9, 4, 2]"
      ]
     },
     "execution_count": 24,
     "metadata": {},
     "output_type": "execute_result"
    }
   ],
   "source": [
    "list_1 = [1,2,3,4,'Helena',9,2.8724,4,2,'Rick',{'name':'John'}]\n",
    "list(filter(lambda a : type(a) == int, list_1))"
   ]
  },
  {
   "cell_type": "code",
   "execution_count": 27,
   "id": "a772fae2",
   "metadata": {},
   "outputs": [
    {
     "name": "stdout",
     "output_type": "stream",
     "text": [
      "\n",
      "Please wait a moment while I gather a list of all available modules...\n",
      "\n",
      "AppKit              builtins            jupyterlab          regex\n",
      "Cocoa               bz2                 jupyterlab_plotly   repo_cli\n",
      "CoreFoundation      cProfile            jupyterlab_pygments reprlib\n",
      "CoreServices        calendar            jupyterlab_server   requests\n",
      "FSEvents            certifi             jupyterlab_widgets  requests_file\n",
      "Foundation          cffi                jwt                 requests_toolbelt\n",
      "IPython             cgi                 kaleido             resource\n",
      "OpenSSL             cgitb               keyring             responses\n",
      "PIL                 chardet             keyword             rfc3339_validator\n",
      "PyQt5               charset_normalizer  kiwisolver          rfc3986_validator\n",
      "__future__          chunk               lazy_loader         rlcompleter\n",
      "__hello__           click               lazy_object_proxy   rope\n",
      "__phello__          cloudpickle         lib2to3             rtree\n",
      "_abc                clyent              libarchive          ruamel_yaml\n",
      "_aix_support        cmath               libfuturize         runpy\n",
      "_argon2_cffi_bindings cmd                 libmambapy          s3fs\n",
      "_ast                code                libpasteurize       safetensors\n",
      "_asyncio            codecs              lief                sched\n",
      "_bisect             codeop              linecache           scipy\n",
      "_black_version      collections         linkify_it          scrapy\n",
      "_blake2             colorama            llvmlite            seaborn\n",
      "_bootsubprocess     colorcet            lmdb                secrets\n",
      "_bz2                colorsys            locale              select\n",
      "_cffi_backend       comm                locket              selectors\n",
      "_codecs             compileall          logging             send2trash\n",
      "_codecs_cn          concurrent          lxml                service_identity\n",
      "_codecs_hk          conda               lz4                 setuptools\n",
      "_codecs_iso2022     conda_build         lzma                shelve\n",
      "_codecs_jp          conda_content_trust mactypes            shlex\n",
      "_codecs_kr          conda_env           mailbox             shutil\n",
      "_codecs_tw          conda_index         mailcap             signal\n",
      "_collections        conda_libmamba_solver markdown            sipbuild\n",
      "_collections_abc    conda_pack          markdown_it         site\n",
      "_compat_pickle      conda_package_handling markupsafe          six\n",
      "_compression        conda_package_streaming marshal             skimage\n",
      "_contextvars        conda_token         math                sklearn\n",
      "_crypt              conda_verify        matplotlib          slugify\n",
      "_csv                conf                matplotlib_inline   smart_open\n",
      "_ctypes             configparser        mccabe              smtpd\n",
      "_ctypes_test        constantly          mdit_py_plugins     smtplib\n",
      "_curses             contextlib          mdurl               snappy\n",
      "_curses_panel       contextvars         mimetypes           sndhdr\n",
      "_datetime           contourpy           mistune             sniffio\n",
      "_dbm                cookiecutter        mmap                snowballstemmer\n",
      "_decimal            copy                modulefinder        socket\n",
      "_distutils_hack     copyreg             more_itertools      socketserver\n",
      "_elementtree        cpuinfo             mpmath              socks\n",
      "_functools          crypt               msgpack             sockshandler\n",
      "_hashlib            cryptography        multidict           sortedcontainers\n",
      "_heapq              cssselect           multipledispatch    soupsieve\n",
      "_imp                csv                 multiprocess        sphinx\n",
      "_io                 ctypes              multiprocessing     sphinxify\n",
      "_json               curl                munkres             sphinxthread\n",
      "_locale             curses              mypy_extensions     spyder\n",
      "_lsprof             cycler              navigator_updater   spyder_kernels\n",
      "_lzma               cytoolz             nbclassic           sqlalchemy\n",
      "_markupbase         dask                nbclient            sqlite3\n",
      "_md5                dataclasses         nbconvert           sre_compile\n",
      "_multibytecodec     datasets            nbformat            sre_constants\n",
      "_multiprocess       datashader          nest_asyncio        sre_parse\n",
      "_multiprocessing    datashape           netrc               ssl\n",
      "_opcode             datetime            networkx            stack_data\n",
      "_operator           dateutil            nis                 stat\n",
      "_osx_support        dbm                 nltk                statistics\n",
      "_pickle             debugpy             nntplib             statsmodels\n",
      "_plotly_future_     decimal             notebook            string\n",
      "_plotly_utils       decorator           notebook_shim       stringprep\n",
      "_posixshmem         defusedxml          ntpath              struct\n",
      "_posixsubprocess    diff_match_patch    nturl2path          subprocess\n",
      "_py_abc             difflib             numba               sunau\n",
      "_pydecimal          dill                numbergen           sympy\n",
      "_pyio               dis                 numbers             symtable\n",
      "_pyrsistent_version distributed         numexpr             sys\n",
      "_pytest             distutils           numpy               sysconfig\n",
      "_queue              docstring_to_markdown numpydoc            syslog\n",
      "_random             doctest             objc                tables\n",
      "_scproxy            docutils            oops                tabnanny\n",
      "_sha1               dotenv              opcode              tabulate\n",
      "_sha256             email               openpyxl            tarfile\n",
      "_sha3               encodings           operator            tblib\n",
      "_sha512             ensurepip           optparse            telnetlib\n",
      "_signal             entrypoints         os                  tempfile\n",
      "_sitebuiltins       enum                osax                tenacity\n",
      "_socket             erfa                packaging           terminado\n",
      "_sqlite3            errno               panda               termios\n",
      "_sre                et_xmlfile          pandas              test\n",
      "_ssl                executing           pandocfilters       test_pycosat\n",
      "_stat               fastjsonschema      panel               text_unidecode\n",
      "_statistics         faulthandler        param               textdistance\n",
      "_string             fcntl               parsel              textwrap\n",
      "_strptime           filecmp             parso               this\n",
      "_struct             fileinput           partd               threading\n",
      "_symtable           filelock            past                threadpoolctl\n",
      "_sysconfigdata__darwin_darwin flake8              pathlib             three_merge\n",
      "_sysconfigdata_arm64_apple_darwin20_0_0 flask               pathspec            tifffile\n",
      "_testbuffer         fnmatch             patsy               time\n",
      "_testcapi           fontTools           pdb                 timeit\n",
      "_testclinic         fractions           pep8                tinycss2\n",
      "_testimportmultiple frozenlist          pexpect             tkinter\n",
      "_testinternalcapi   fsspec              pickle              tldextract\n",
      "_testmultiphase     ftplib              pickleshare         tlz\n",
      "_thread             functools           pickletools         token\n",
      "_threading_local    future              pip                 tokenize\n",
      "_tkinter            gc                  pipes               tokenizers\n",
      "_tokenize           genericpath         pkce                toml\n",
      "_tracemalloc        gensim              pkg_resources       tomlkit\n",
      "_typing             getopt              pkginfo             tomllib\n",
      "_uuid               getpass             pkgutil             toolz\n",
      "_warnings           gettext             platform            tornado\n",
      "_watchdog_fsevents  glob                platformdirs        tqdm\n",
      "_weakref            glob2               plistlib            trace\n",
      "_weakrefset         gmpy2               plotly              traceback\n",
      "_xxsubinterpreters  graphlib            pluggy              tracemalloc\n",
      "_xxtestfuzz         greenlet            ply                 traitlets\n",
      "_yaml               grp                 poplib              transformers\n",
      "_zoneinfo           gzip                posix               tty\n",
      "abc                 h5py                posixpath           turtle\n",
      "aem                 hashlib             poyo                turtledemo\n",
      "aifc                heapdict            pprint              twisted\n",
      "aiobotocore         heapq               profile             types\n",
      "aiofiles            hmac                prometheus_client   typing\n",
      "aiohttp             holoviews           prompt_toolkit      typing_extensions\n",
      "aioitertools        html                protego             tzdata\n",
      "aiosignal           http                pstats              uc_micro\n",
      "aiosqlite           huggingface_hub     psutil              ujson\n",
      "alabaster           hvplot              pty                 unicodedata\n",
      "anaconda_anon_usage hyperlink           ptyprocess          unidecode\n",
      "anaconda_catalogs   idlelib             pure_eval           unittest\n",
      "anaconda_cloud_auth idna                pvectorc            urllib\n",
      "anaconda_navigator  imagecodecs         pwd                 urllib3\n",
      "anaconda_project    imageio             py                  uu\n",
      "antigravity         imagesize           py_compile          uuid\n",
      "anyio               imaplib             pyarrow             venv\n",
      "appdirs             imblearn            pyasn1              w3lib\n",
      "applaunchservices   imghdr              pyasn1_modules      warnings\n",
      "appnope             imp                 pyclbr              watchdog\n",
      "appscript           importlib           pycodestyle         wave\n",
      "argon2              importlib_metadata  pycosat             wcwidth\n",
      "argparse            incremental         pycparser           weakref\n",
      "array               inflection          pyct                webbrowser\n",
      "arrow               iniconfig           pycurl              webencodings\n",
      "ast                 inspect             pydantic            websocket\n",
      "astroid             intake              pydispatch          werkzeug\n",
      "astropy             intervaltree        pydoc               whatthepatch\n",
      "asttokens           io                  pydoc_data          wheel\n",
      "async_timeout       ipaddress           pydocstyle          widgetsnbextension\n",
      "asynchat            ipykernel           pyexpat             wrapt\n",
      "asyncio             ipykernel_launcher  pyflakes            wsgiref\n",
      "asyncore            ipython_genutils    pygments            wurlitzer\n",
      "atexit              ipywidgets          pylab               xarray\n",
      "atomicwrites        isort               pylint              xdrlib\n",
      "attr                isympy              pylint_venv         xlwings\n",
      "attrs               itemadapter         pyls_spyder         xml\n",
      "audioop             itemloaders         pylsp               xmlrpc\n",
      "automat             itertools           pylsp_black         xxhash\n",
      "autopep8            itsdangerous        pylsp_jsonrpc       xxlimited\n",
      "babel               jedi                pyodbc              xxlimited_35\n",
      "backcall            jellyfish           pyparsing           xxsubtype\n",
      "backports           jinja2              pyrsistent          xyzservices\n",
      "base64              jinja2_time         pytest              y_py\n",
      "bcrypt              jmespath            pythonjsonlogger    yaml\n",
      "bdb                 joblib              pytoolconfig        yapf\n",
      "binaryornot         json                pytz                yapftests\n",
      "binascii            json5               pyviz_comms         yarl\n",
      "binstar_client      jsonpatch           pywt                ypy_websocket\n",
      "bisect              jsonpointer         qdarkstyle          zict\n",
      "black               jsonschema          qstylizer           zipapp\n",
      "blackd              jupyter             qtawesome           zipfile\n",
      "bleach              jupyter_client      qtconsole           zipimport\n",
      "blib2to3            jupyter_console     qtpy                zipp\n",
      "bokeh               jupyter_core        queue               zlib\n",
      "boltons             jupyter_events      queuelib            zmq\n",
      "botocore            jupyter_server      quopri              zoneinfo\n",
      "bottleneck          jupyter_server_fileid random              zope\n",
      "brotli              jupyter_server_ydoc re                  zstandard\n",
      "bs4                 jupyter_ydoc        readline            \n",
      "\n",
      "Enter any module name to get more help.  Or, type \"modules spam\" to search\n",
      "for modules whose name or summary contain the string \"spam\".\n",
      "\n"
     ]
    }
   ],
   "source": [
    "help('modules')"
   ]
  },
  {
   "cell_type": "code",
   "execution_count": 26,
   "id": "5d2b6ca6",
   "metadata": {},
   "outputs": [
    {
     "data": {
      "text/plain": [
       "3.5"
      ]
     },
     "execution_count": 26,
     "metadata": {},
     "output_type": "execute_result"
    }
   ],
   "source": [
    "import statistics as s\n",
    "l = [1,2,3,4,5,6]\n",
    "s.mean(l)"
   ]
  },
  {
   "cell_type": "code",
   "execution_count": null,
   "id": "8c4fee93",
   "metadata": {},
   "outputs": [],
   "source": []
  }
 ],
 "metadata": {
  "kernelspec": {
   "display_name": "Python 3 (ipykernel)",
   "language": "python",
   "name": "python3"
  },
  "language_info": {
   "codemirror_mode": {
    "name": "ipython",
    "version": 3
   },
   "file_extension": ".py",
   "mimetype": "text/x-python",
   "name": "python",
   "nbconvert_exporter": "python",
   "pygments_lexer": "ipython3",
   "version": "3.11.5"
  }
 },
 "nbformat": 4,
 "nbformat_minor": 5
}
