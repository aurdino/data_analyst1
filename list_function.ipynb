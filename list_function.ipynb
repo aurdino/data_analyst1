{
 "cells": [
  {
   "cell_type": "code",
   "execution_count": 1,
   "id": "e20195f1",
   "metadata": {},
   "outputs": [
    {
     "data": {
      "text/plain": [
       "[(0, 1), (1, 2), (2, 3), (3, 4), (4, 5)]"
      ]
     },
     "execution_count": 1,
     "metadata": {},
     "output_type": "execute_result"
    }
   ],
   "source": [
    "lst = [1,2,3,4,5]\n",
    "list(enumerate(lst))\n"
   ]
  },
  {
   "cell_type": "code",
   "execution_count": 2,
   "id": "a35df905",
   "metadata": {},
   "outputs": [
    {
     "data": {
      "text/plain": [
       "{0: 1, 1: 2, 2: 3, 3: 4, 4: 5}"
      ]
     },
     "execution_count": 2,
     "metadata": {},
     "output_type": "execute_result"
    }
   ],
   "source": [
    "dict(list(enumerate(lst)))"
   ]
  },
  {
   "cell_type": "code",
   "execution_count": 12,
   "id": "208fae98",
   "metadata": {},
   "outputs": [
    {
     "name": "stdout",
     "output_type": "stream",
     "text": [
      "(1, 1)\n",
      "(2, 5)\n",
      "(3, 3)\n",
      "(4, 10)\n",
      "(5, 50)\n"
     ]
    }
   ],
   "source": [
    "lst2 = [1,5,3,10,50]\n",
    "x = zip(lst,lst2)\n",
    "for i in x:\n",
    "    print(i)"
   ]
  },
  {
   "cell_type": "code",
   "execution_count": 15,
   "id": "845a3028",
   "metadata": {},
   "outputs": [
    {
     "name": "stdout",
     "output_type": "stream",
     "text": [
      "50 1 69\n"
     ]
    }
   ],
   "source": [
    "print(max(lst2),min(lst2),sum(lst2))"
   ]
  },
  {
   "cell_type": "code",
   "execution_count": 22,
   "id": "bc9f69cd",
   "metadata": {},
   "outputs": [
    {
     "name": "stdout",
     "output_type": "stream",
     "text": [
      "Welcome John\n",
      "Welcome Mr John, Welcome in India\n"
     ]
    }
   ],
   "source": [
    "def welcome_message(x):\n",
    "    print(f'Welcome {x}')\n",
    "welcome_message('John')\n",
    "\n",
    "def welcome_message(x,y):\n",
    "    print(f'Welcome Mr {x}, Welcome in {y}')\n",
    "welcome_message('John','India')\n",
    "    "
   ]
  },
  {
   "cell_type": "code",
   "execution_count": 16,
   "id": "3bef3af8",
   "metadata": {},
   "outputs": [
    {
     "ename": "NameError",
     "evalue": "name 'welcome_message' is not defined",
     "output_type": "error",
     "traceback": [
      "\u001b[1;31m---------------------------------------------------------------------------\u001b[0m",
      "\u001b[1;31mNameError\u001b[0m                                 Traceback (most recent call last)",
      "Cell \u001b[1;32mIn[16], line 1\u001b[0m\n\u001b[1;32m----> 1\u001b[0m welcome_message()\n",
      "\u001b[1;31mNameError\u001b[0m: name 'welcome_message' is not defined"
     ]
    }
   ],
   "source": []
  },
  {
   "cell_type": "code",
   "execution_count": 19,
   "id": "d22b7dd7",
   "metadata": {},
   "outputs": [
    {
     "data": {
      "text/plain": [
       "'0b10'"
      ]
     },
     "execution_count": 19,
     "metadata": {},
     "output_type": "execute_result"
    }
   ],
   "source": [
    "bin(2)"
   ]
  },
  {
   "cell_type": "code",
   "execution_count": 23,
   "id": "ab25be28",
   "metadata": {},
   "outputs": [
    {
     "data": {
      "text/plain": [
       "[1, 5, 3, 10, 50]"
      ]
     },
     "execution_count": 23,
     "metadata": {},
     "output_type": "execute_result"
    }
   ],
   "source": [
    "lst2"
   ]
  },
  {
   "cell_type": "code",
   "execution_count": 36,
   "id": "22fce419",
   "metadata": {},
   "outputs": [
    {
     "data": {
      "text/plain": [
       "3.0"
      ]
     },
     "execution_count": 36,
     "metadata": {},
     "output_type": "execute_result"
    }
   ],
   "source": [
    "def average(lst):\n",
    "    if type(lst) in [list, tuple, set]:\n",
    "        return sum(lst)/len(lst)\n",
    "    else:\n",
    "        print('Please pass list or tuple or set')\n",
    "lst_1 = [1,4,2,5,6,10,5]\n",
    "average(lst)\n",
    "round(average(lst),2)"
   ]
  },
  {
   "cell_type": "code",
   "execution_count": 37,
   "id": "d1be0537",
   "metadata": {},
   "outputs": [
    {
     "data": {
      "text/plain": [
       "3.0"
      ]
     },
     "execution_count": 37,
     "metadata": {},
     "output_type": "execute_result"
    }
   ],
   "source": [
    "def average(lst):\n",
    "    if type(lst) in [list,tuple,set]:\n",
    "        return sum(lst)/len(lst)\n",
    "    else:\n",
    "        print('Please pass list or tuple or set')\n",
    "lst_1 = [1,4,2,5,7,10,5]\n",
    "average(lst)\n",
    "round(average(lst),2)"
   ]
  },
  {
   "cell_type": "code",
   "execution_count": 43,
   "id": "180bf79e",
   "metadata": {},
   "outputs": [
    {
     "data": {
      "text/plain": [
       "5"
      ]
     },
     "execution_count": 43,
     "metadata": {},
     "output_type": "execute_result"
    }
   ],
   "source": [
    "def my_args(*arg):\n",
    "    return max(arg)\n",
    "my_args(1,2,3,4,5)"
   ]
  },
  {
   "cell_type": "code",
   "execution_count": 50,
   "id": "6566073c",
   "metadata": {},
   "outputs": [
    {
     "name": "stdout",
     "output_type": "stream",
     "text": [
      "<class 'dict'>\n",
      "Ratan is my friend\n"
     ]
    }
   ],
   "source": [
    "def key_word_func(**kwargs):\n",
    "    print(type(kwargs))\n",
    "    if 'name' in kwargs:\n",
    "        print('Ratan is my friend')\n",
    "    else:\n",
    "        print('No one is my friend')\n",
    "key_word_func(name = 'Ratan', Age = 23)\n"
   ]
  },
  {
   "cell_type": "code",
   "execution_count": 59,
   "id": "657d7573",
   "metadata": {},
   "outputs": [
    {
     "name": "stdout",
     "output_type": "stream",
     "text": [
      "India 5\n",
      "USA 3\n",
      "Germany 7\n",
      "Italy 5\n",
      "France 6\n",
      "Canada 6\n",
      "\n",
      "\n",
      "5\n",
      "3\n",
      "7\n",
      "5\n",
      "6\n",
      "6\n"
     ]
    },
    {
     "data": {
      "text/plain": [
       "['India : 5',\n",
       " 'USA : 3',\n",
       " 'Germany : 7',\n",
       " 'Italy : 5',\n",
       " 'France : 6',\n",
       " 'Canada : 6']"
      ]
     },
     "execution_count": 59,
     "metadata": {},
     "output_type": "execute_result"
    }
   ],
   "source": [
    "#map and filter\n",
    "countries_lst = ['India', 'USA', 'Germany','Italy','France','Canada']\n",
    "for x in countries_lst:\n",
    "    print(x,  len(x))\n",
    "\n",
    "\n",
    "print('\\n')\n",
    "x = map(len,countries_lst)\n",
    "list(map(len,countries_lst))\n",
    "for i in x:\n",
    "    print(i)\n",
    "\n",
    "def return_len(x):\n",
    "    return f'{x} : {len(x)}'\n",
    "list(map(return_len,countries_lst))\n"
   ]
  },
  {
   "cell_type": "code",
   "execution_count": 70,
   "id": "31548a72",
   "metadata": {},
   "outputs": [
    {
     "data": {
      "text/plain": [
       "['India', 'USA', 'Germany', 'Italy', 'France', 'Canada']"
      ]
     },
     "execution_count": 70,
     "metadata": {},
     "output_type": "execute_result"
    }
   ],
   "source": [
    "#filter \n",
    "countries_lst1 = ['India', 'USA', 'Germany','Italy','France','Canada',100]\n",
    "def is_str(x):\n",
    "    return type(x) == str\n",
    "is_str('None')\n",
    "\n",
    "list(filter(is_str,countries_lst1))\n",
    "#list(map(is_str,countries_lst1))"
   ]
  },
  {
   "cell_type": "code",
   "execution_count": 72,
   "id": "b3cde134",
   "metadata": {},
   "outputs": [
    {
     "data": {
      "text/plain": [
       "['India', 'USA', 'Germany', 'Italy', 'France', 'Canada']"
      ]
     },
     "execution_count": 72,
     "metadata": {},
     "output_type": "execute_result"
    }
   ],
   "source": [
    "#Lambda function : anonymous function that can take any number of argument and can return output as expression\n",
    "#simplicity\n",
    "countries_lst2 = ['India', 'USA', 'Germany','Italy','France','Canada',100,1]\n",
    "def is_str(x):\n",
    "    return type(x) == str\n",
    "lambda x : type(x) == str\n",
    "list(filter(lambda x : type(x) == str, countries_lst2)) # in a single line "
   ]
  },
  {
   "cell_type": "code",
   "execution_count": 80,
   "id": "d5375de7",
   "metadata": {},
   "outputs": [
    {
     "data": {
      "text/plain": [
       "[2, 4, 6, 8, 10]"
      ]
     },
     "execution_count": 80,
     "metadata": {},
     "output_type": "execute_result"
    }
   ],
   "source": [
    "lst_2  = [1,2,3,4,5]\n",
    "def func_mul(x):\n",
    "    return x*2\n",
    "#list(map(func_mul,lst_2))\n",
    "\n",
    "list(map(lambda x:x*2,lst_2)) #lambda function \n"
   ]
  },
  {
   "cell_type": "code",
   "execution_count": 85,
   "id": "e04e73b0",
   "metadata": {},
   "outputs": [
    {
     "name": "stdout",
     "output_type": "stream",
     "text": [
      "10.0\n"
     ]
    }
   ],
   "source": [
    "# try except else finally\n",
    "'''\n",
    "try:\n",
    "    <block of code to execute> this will attempt to run \n",
    "except:\n",
    "    <block of code to execute> if there is an exception, this wil execute\n",
    "else:\n",
    "    <block of code to execute>this will run if the try clause does not raise an exception \n",
    "finally:\n",
    "    <block of code to execute>  this will always run \n",
    "\n",
    "'''\n",
    "\n",
    "print(10/1)"
   ]
  },
  {
   "cell_type": "code",
   "execution_count": 96,
   "id": "4d837d15",
   "metadata": {},
   "outputs": [
    {
     "name": "stdout",
     "output_type": "stream",
     "text": [
      "divide by string is not allowed\n",
      "This will always print\n"
     ]
    }
   ],
   "source": [
    "try:\n",
    "    print(10/'1')\n",
    "except ZeroDivisionError:\n",
    "    print('divide by zero is not allowed')\n",
    "except TypeError:\n",
    "    print('divide by string is not allowed')\n",
    "else:\n",
    "    print('eveything went well')\n",
    "finally:\n",
    "    print('This will always print')"
   ]
  },
  {
   "cell_type": "code",
   "execution_count": 93,
   "id": "96503295",
   "metadata": {},
   "outputs": [
    {
     "name": "stdout",
     "output_type": "stream",
     "text": [
      "This will always print\n"
     ]
    },
    {
     "ename": "TypeError",
     "evalue": "unsupported operand type(s) for /: 'int' and 'str'",
     "output_type": "error",
     "traceback": [
      "\u001b[1;31m---------------------------------------------------------------------------\u001b[0m",
      "\u001b[1;31mTypeError\u001b[0m                                 Traceback (most recent call last)",
      "Cell \u001b[1;32mIn[93], line 2\u001b[0m\n\u001b[0;32m      1\u001b[0m \u001b[38;5;28;01mtry\u001b[39;00m:\n\u001b[1;32m----> 2\u001b[0m     \u001b[38;5;28mprint\u001b[39m(\u001b[38;5;241m10\u001b[39m\u001b[38;5;241m/\u001b[39m\u001b[38;5;124m'\u001b[39m\u001b[38;5;124m1\u001b[39m\u001b[38;5;124m'\u001b[39m)\n\u001b[0;32m      3\u001b[0m \u001b[38;5;28;01mexcept\u001b[39;00m \u001b[38;5;167;01mZeroDivisionError\u001b[39;00m:\n\u001b[0;32m      4\u001b[0m     \u001b[38;5;28mprint\u001b[39m(\u001b[38;5;124m'\u001b[39m\u001b[38;5;124mdivide by zero is not allowed\u001b[39m\u001b[38;5;124m'\u001b[39m)\n",
      "\u001b[1;31mTypeError\u001b[0m: unsupported operand type(s) for /: 'int' and 'str'"
     ]
    }
   ],
   "source": []
  },
  {
   "cell_type": "code",
   "execution_count": null,
   "id": "ee783698",
   "metadata": {},
   "outputs": [],
   "source": []
  }
 ],
 "metadata": {
  "kernelspec": {
   "display_name": "Python 3 (ipykernel)",
   "language": "python",
   "name": "python3"
  },
  "language_info": {
   "codemirror_mode": {
    "name": "ipython",
    "version": 3
   },
   "file_extension": ".py",
   "mimetype": "text/x-python",
   "name": "python",
   "nbconvert_exporter": "python",
   "pygments_lexer": "ipython3",
   "version": "3.11.5"
  }
 },
 "nbformat": 4,
 "nbformat_minor": 5
}
